{
  "cells": [
    {
      "cell_type": "code",
      "execution_count": null,
      "metadata": {
        "colab": {
          "base_uri": "https://localhost:8080/"
        },
        "collapsed": true,
        "id": "qMCvu-z_PWjb",
        "outputId": "11f0027a-1023-4741-c630-507d7d88a1a3"
      },
      "outputs": [],
      "source": [
        "!pip install tensorflow"
      ]
    },
    {
      "cell_type": "code",
      "execution_count": null,
      "metadata": {
        "id": "h0buuBjxvFE7"
      },
      "outputs": [],
      "source": [
        "# Setting seeds for reproducibility\n",
        "import random\n",
        "random.seed(0)\n",
        "\n",
        "import numpy as np\n",
        "np.random.seed(0)\n",
        "\n",
        "import tensorflow as tf\n",
        "tf.random.set_seed(0)"
      ]
    },
    {
      "cell_type": "markdown",
      "metadata": {
        "id": "oUp5uVx6v8ZT"
      },
      "source": [
        "importing dependencies"
      ]
    },
    {
      "cell_type": "code",
      "execution_count": null,
      "metadata": {
        "id": "kv8mUuK_v39h"
      },
      "outputs": [],
      "source": [
        "from tensorflow.keras import layers,datasets,models\n",
        "import matplotlib.pyplot as plt"
      ]
    },
    {
      "cell_type": "markdown",
      "metadata": {
        "id": "5gjle0r2wmyW"
      },
      "source": [
        "Data Curation"
      ]
    },
    {
      "cell_type": "code",
      "execution_count": null,
      "metadata": {
        "colab": {
          "base_uri": "https://localhost:8080/"
        },
        "id": "oOi3jysuwkhh",
        "outputId": "8f6d24dc-8af2-44d5-a370-5c2e1f9f8143"
      },
      "outputs": [],
      "source": [
        "fashion_mnist = datasets.fashion_mnist\n",
        "(train_iamges,train_labels),(test_images,test_labels) = fashion_mnist.load_data()"
      ]
    },
    {
      "cell_type": "markdown",
      "metadata": {
        "id": "f6VUQtMcxe1d"
      },
      "source": [
        "Data Processing\n"
      ]
    },
    {
      "cell_type": "code",
      "execution_count": null,
      "metadata": {
        "colab": {
          "base_uri": "https://localhost:8080/"
        },
        "id": "b0WwTl3axHgL",
        "outputId": "efb809d4-8cdc-4f78-ec60-434d90719d06"
      },
      "outputs": [],
      "source": [
        "type(train_iamges)"
      ]
    },
    {
      "cell_type": "code",
      "execution_count": null,
      "metadata": {
        "colab": {
          "base_uri": "https://localhost:8080/"
        },
        "id": "Zu7vIGqIxprZ",
        "outputId": "cab220ef-807a-43c6-b769-3516b29eb23e"
      },
      "outputs": [],
      "source": [
        "type(train_labels)"
      ]
    },
    {
      "cell_type": "code",
      "execution_count": null,
      "metadata": {
        "colab": {
          "base_uri": "https://localhost:8080/"
        },
        "id": "Z9NXI69ExsaL",
        "outputId": "80a54487-1c19-43ca-bd95-badd0351fb85"
      },
      "outputs": [],
      "source": [
        "len(train_iamges)"
      ]
    },
    {
      "cell_type": "code",
      "execution_count": null,
      "metadata": {
        "colab": {
          "base_uri": "https://localhost:8080/"
        },
        "id": "0YkC3oRixxPb",
        "outputId": "d0778884-30af-46f2-b94f-b5e70d7eef47"
      },
      "outputs": [],
      "source": [
        "train_iamges[0].shape"
      ]
    },
    {
      "cell_type": "markdown",
      "metadata": {
        "id": "9YjUtknOzbJs"
      },
      "source": [
        "Displaying a image from the dataset"
      ]
    },
    {
      "cell_type": "code",
      "execution_count": null,
      "metadata": {
        "colab": {
          "base_uri": "https://localhost:8080/",
          "height": 452
        },
        "id": "nAwgz4MXx39A",
        "outputId": "e543c7e4-c478-415e-e2c9-3658021e570f"
      },
      "outputs": [],
      "source": [
        "plt.imshow(train_iamges[0],cmap='gray')\n",
        "plt.title(train_labels[0])\n",
        "plt.show()"
      ]
    },
    {
      "cell_type": "code",
      "execution_count": null,
      "metadata": {
        "id": "sfGQuEpGzoXV"
      },
      "outputs": [],
      "source": [
        "# Normalize pixel values to be b/w 0 and 1\n",
        "train_images = train_iamges / 255.0\n",
        "test_images = test_images / 255.0"
      ]
    },
    {
      "cell_type": "code",
      "execution_count": null,
      "metadata": {
        "colab": {
          "base_uri": "https://localhost:8080/"
        },
        "id": "dp3lHbsv0NhW",
        "outputId": "d6649f79-de09-4c69-f01e-cc1eb8d0fd73"
      },
      "outputs": [],
      "source": [
        "train_iamges.shape"
      ]
    },
    {
      "cell_type": "code",
      "execution_count": null,
      "metadata": {
        "id": "DLjO6isY1fui"
      },
      "outputs": [],
      "source": [
        "# Reshape iamges to specify it's single channel image for our model\n",
        "train_images = train_images.reshape(train_images.shape[0],28,28,1)\n",
        "test_images = test_images.reshape(test_images.shape[0],28,28,1)"
      ]
    },
    {
      "cell_type": "code",
      "execution_count": null,
      "metadata": {
        "colab": {
          "base_uri": "https://localhost:8080/"
        },
        "id": "t1J3azTd24r4",
        "outputId": "e280fec7-b907-4aed-c8b1-ef14436991e3"
      },
      "outputs": [],
      "source": [
        "train_images.shape"
      ]
    },
    {
      "cell_type": "markdown",
      "metadata": {
        "id": "BQgSMURA3FFa"
      },
      "source": [
        "Convolutional Neural Network"
      ]
    },
    {
      "cell_type": "code",
      "execution_count": null,
      "metadata": {
        "colab": {
          "base_uri": "https://localhost:8080/"
        },
        "id": "pgBWLyXm3CGW",
        "outputId": "66090ade-460e-4460-a443-e61c1d928623"
      },
      "outputs": [],
      "source": [
        "model = models.Sequential()\n",
        "model.add(layers.Conv2D(32,(3,3),activation='relu',input_shape=(28,28,1)))\n",
        "model.add(layers.MaxPooling2D(2,2))\n",
        "model.add(layers.Conv2D(64,(3,3),activation='relu'))\n",
        "model.add(layers.MaxPooling2D(2,2))\n",
        "model.add(layers.Conv2D(64,(3,3),activation='relu'))\n",
        "\n",
        "# Add dense layers on top\n",
        "model.add(layers.Flatten())\n",
        "model.add(layers.Dense(64,activation='relu'))\n",
        "model.add(layers.Dense(10))\n"
      ]
    },
    {
      "cell_type": "markdown",
      "metadata": {
        "id": "rZ6ZhPy8Nxdc"
      },
      "source": [
        "Compiling the model"
      ]
    },
    {
      "cell_type": "code",
      "execution_count": null,
      "metadata": {
        "id": "msuuuzvsNv-s"
      },
      "outputs": [],
      "source": [
        "model.compile(optimizer='adam',loss=tf.keras.losses.SparseCategoricalCrossentropy(from_logits=True),metrics=['accuracy'])"
      ]
    },
    {
      "cell_type": "code",
      "execution_count": null,
      "metadata": {
        "colab": {
          "base_uri": "https://localhost:8080/"
        },
        "id": "Ywzb4VLXN3Io",
        "outputId": "7b682146-7551-49a4-dda3-05f28e863391"
      },
      "outputs": [],
      "source": [
        "history = model.fit(train_images,train_labels,epochs=5,validation_data=(test_images,test_labels))"
      ]
    },
    {
      "cell_type": "code",
      "execution_count": null,
      "metadata": {
        "colab": {
          "base_uri": "https://localhost:8080/"
        },
        "id": "PQcrAR-DQSOH",
        "outputId": "c2f7aa59-e57c-4202-c5f9-eb7b9bebf26c"
      },
      "outputs": [],
      "source": [
        "# Evaluating the model\n",
        "test_loss,test_acc = model.evaluate(test_images,test_labels,verbose = 2)\n",
        "test_acc"
      ]
    },
    {
      "cell_type": "code",
      "execution_count": null,
      "metadata": {
        "colab": {
          "base_uri": "https://localhost:8080/",
          "height": 449
        },
        "id": "CqRUFZZSQ8I2",
        "outputId": "7491dfc5-7c50-48be-87fa-d41a52181e01"
      },
      "outputs": [],
      "source": [
        "# Plotting acc and val_acc\n",
        "plt.plot(history.history['accuracy'])\n",
        "plt.plot(history.history['val_accuracy'])\n",
        "plt.xlabel('Epoch')\n",
        "plt.ylabel('Accuracy')\n",
        "plt.legend([\"Train\",\"Test\"],loc = \"upper left\")\n",
        "plt.show()"
      ]
    },
    {
      "cell_type": "code",
      "execution_count": null,
      "metadata": {
        "colab": {
          "base_uri": "https://localhost:8080/",
          "height": 449
        },
        "id": "Xzl9WR0pRzk4",
        "outputId": "25ec2aed-3b34-46ef-a019-2fa70a6585ba"
      },
      "outputs": [],
      "source": [
        "# plotting loss and val_loss\n",
        "plt.plot(history.history['loss'])\n",
        "plt.plot(history.history['val_loss'])\n",
        "plt.xlabel('Epoch')\n",
        "plt.ylabel('Loss')\n",
        "plt.legend([\"Train\",\"Test\"],loc = \"upper left\")\n",
        "plt.show()\n"
      ]
    },
    {
      "cell_type": "code",
      "execution_count": null,
      "metadata": {
        "colab": {
          "base_uri": "https://localhost:8080/"
        },
        "id": "ByDZmD3pSEPA",
        "outputId": "5c711a24-0937-4e95-e095-09799f9e5f5c"
      },
      "outputs": [],
      "source": [
        "model.save(\"MNIST_Fashion_model.h5\")"
      ]
    },
    {
      "cell_type": "code",
      "execution_count": null,
      "metadata": {
        "id": "dSXjH-y1Sinm"
      },
      "outputs": [],
      "source": []
    }
  ],
  "metadata": {
    "accelerator": "GPU",
    "colab": {
      "gpuType": "T4",
      "provenance": []
    },
    "kernelspec": {
      "display_name": "base",
      "language": "python",
      "name": "python3"
    },
    "language_info": {
      "name": "python",
      "version": "3.12.7"
    }
  },
  "nbformat": 4,
  "nbformat_minor": 0
}
